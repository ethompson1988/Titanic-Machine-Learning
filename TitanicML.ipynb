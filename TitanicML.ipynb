{
 "cells": [
  {
   "cell_type": "code",
   "execution_count": 227,
   "metadata": {},
   "outputs": [],
   "source": [
    "import pandas as pd\n",
    "import numpy as np\n",
    "import seaborn as sns\n",
    "import matplotlib.pyplot as plt\n",
    "%matplotlib inline"
   ]
  },
  {
   "cell_type": "code",
   "execution_count": 228,
   "metadata": {},
   "outputs": [],
   "source": [
    "train = pd.read_csv('train.csv')\n",
    "test = pd.read_csv('test.csv')\n",
    "gender = pd.read_csv('gender_submission.csv')\n",
    "# train.info()"
   ]
  },
  {
   "cell_type": "code",
   "execution_count": 229,
   "metadata": {},
   "outputs": [],
   "source": [
    "#Right off the bat we can see that PassengerId and Name will not have any value and Cabin is missing too many values, Ticket is too hard to ....\n",
    "solution_df = pd.DataFrame(test['PassengerId'])\n",
    "train = train.drop(['PassengerId','Name','Cabin','Ticket'], axis=1)\n",
    "test = test.drop(['PassengerId','Name','Cabin','Ticket'], axis=1)\n",
    "# train"
   ]
  },
  {
   "cell_type": "code",
   "execution_count": 230,
   "metadata": {},
   "outputs": [],
   "source": [
    "# train.info()\n",
    "# train['Pclass'].unique()"
   ]
  },
  {
   "cell_type": "code",
   "execution_count": 231,
   "metadata": {},
   "outputs": [],
   "source": [
    "train = pd.get_dummies(train, drop_first = True, columns = ['Sex','Embarked','Pclass'])\n",
    "test = pd.get_dummies(test, drop_first = True, columns = ['Sex','Embarked','Pclass'])"
   ]
  },
  {
   "cell_type": "code",
   "execution_count": 232,
   "metadata": {},
   "outputs": [],
   "source": [
    "# train.head()"
   ]
  },
  {
   "cell_type": "code",
   "execution_count": 233,
   "metadata": {},
   "outputs": [],
   "source": [
    "#Now that we have all numeric values, we can plot the correlation coefficient\n",
    "correlation = train.corr(method='pearson')\n",
    "# sns.heatmap(correlation,annot=True)\n",
    "# plt.show()\n",
    "# Pearson model says that .3-.49 indicates moderate correlation and .50-1 indicates strong correlation"
   ]
  },
  {
   "cell_type": "code",
   "execution_count": 234,
   "metadata": {},
   "outputs": [],
   "source": [
    "# plt.hist(train['Age'])\n",
    "# plt.show()"
   ]
  },
  {
   "cell_type": "code",
   "execution_count": 235,
   "metadata": {},
   "outputs": [],
   "source": [
    "# plt.hist(train['Fare'],bins=40)\n",
    "# plt.show()"
   ]
  },
  {
   "cell_type": "code",
   "execution_count": 236,
   "metadata": {},
   "outputs": [],
   "source": [
    "from sklearn.impute import SimpleImputer\n",
    "imp = SimpleImputer(missing_values=np.nan, strategy='mean')\n",
    "train['Age'] = imp.fit_transform(train['Age'].values.reshape(-1,1))\n",
    "test['Age'] = imp.fit_transform(test['Age'].values.reshape(-1,1))\n",
    "test['Fare'] = imp.fit_transform(test['Fare'].values.reshape(-1,1))"
   ]
  },
  {
   "cell_type": "code",
   "execution_count": 237,
   "metadata": {},
   "outputs": [],
   "source": [
    "# train.info()\n",
    "# test.info()"
   ]
  },
  {
   "cell_type": "code",
   "execution_count": 238,
   "metadata": {},
   "outputs": [],
   "source": [
    "from sklearn.preprocessing import RobustScaler\n",
    "scaler = RobustScaler()\n",
    "train['Age'] = scaler.fit_transform(train['Age'].values.reshape(-1,1))\n",
    "train['Fare'] = scaler.fit_transform(train['Fare'].values.reshape(-1,1))\n",
    "test['Age'] = scaler.fit_transform(test['Age'].values.reshape(-1,1))\n",
    "test['Fare'] = scaler.fit_transform(test['Age'].values.reshape(-1,1))"
   ]
  },
  {
   "cell_type": "code",
   "execution_count": 239,
   "metadata": {},
   "outputs": [],
   "source": [
    "# test"
   ]
  },
  {
   "cell_type": "code",
   "execution_count": 240,
   "metadata": {},
   "outputs": [],
   "source": [
    "from sklearn.model_selection import train_test_split\n",
    "X_train = train.drop('Survived', axis=1)\n",
    "y_train = train['Survived']\n",
    "X_test  = test"
   ]
  },
  {
   "cell_type": "code",
   "execution_count": 241,
   "metadata": {},
   "outputs": [],
   "source": [
    "# from sklearn.linear_model import LogisticRegression\n",
    "# from sklearn.model_selection import RepeatedStratifiedKFold\n",
    "# from sklearn.model_selection import GridSearchCV\n",
    "# model = LogisticRegression()\n",
    "# solvers = ['newton-cg', 'lbfgs','liblinear','sag', 'saga']\n",
    "# penalty = ['l1','l2','elasticnet']\n",
    "# c_values = [100, 10, 1.0, 0.1, 0.01]\n",
    "# grid = dict(solver=solvers,penalty=penalty,C=c_values)\n",
    "# cv = RepeatedStratifiedKFold(n_splits=10, n_repeats=3, random_state=1)\n",
    "# grid_search = GridSearchCV(estimator=model, param_grid=grid, n_jobs=-1, cv=cv, scoring='accuracy',error_score=0)\n",
    "# grid_result = grid_search.fit(X_train, y_train)\n",
    "# print(\"Best: %f using %s\" % (grid_result.best_score_, grid_result.best_params_))"
   ]
  },
  {
   "cell_type": "code",
   "execution_count": 242,
   "metadata": {},
   "outputs": [],
   "source": [
    "# model = LogisticRegression(C=.1,penalty='l2',solver='newton-cg')\n",
    "# model.fit(X_train,y_train)\n",
    "# predictions = model.predict(X_test)\n",
    "# logreg_solution = solution_df.copy()\n",
    "# logreg_solution['Survived'] = predictions\n",
    "# logreg_solution.to_csv('logreg_et.csv',index=False)"
   ]
  },
  {
   "cell_type": "code",
   "execution_count": 243,
   "metadata": {},
   "outputs": [],
   "source": [
    "# from sklearn.linear_model import RidgeClassifier\n",
    "# model = RidgeClassifier()\n",
    "# alpha = [0.1, 0.2, 0.3, 0.4, 0.5, 0.6, 0.7, 0.8, 0.9, 1.0]\n",
    "# grid = dict(alpha=alpha)\n",
    "# cv = RepeatedStratifiedKFold(n_splits=10, n_repeats=3, random_state=1)\n",
    "# grid_search = GridSearchCV(estimator=model, param_grid=grid, n_jobs=-1, cv=cv, scoring='accuracy',error_score=0)\n",
    "# grid_result = grid_search.fit(X_train, y_train)\n",
    "# print(\"Best: %f using %s\" % (grid_result.best_score_, grid_result.best_params_))"
   ]
  },
  {
   "cell_type": "code",
   "execution_count": 244,
   "metadata": {},
   "outputs": [],
   "source": [
    "# model = RidgeClassifier(alpha=.2)\n",
    "# model.fit(X_train,y_train)\n",
    "# predictions = model.predict(X_test)\n",
    "# ridge_solution = solution_df.copy()\n",
    "# ridge_solution['Survived'] = predictions\n",
    "# ridge_solution.to_csv('ridge_et.csv',index=False)"
   ]
  },
  {
   "cell_type": "code",
   "execution_count": null,
   "metadata": {},
   "outputs": [],
   "source": []
  }
 ],
 "metadata": {
  "kernelspec": {
   "display_name": "Python [conda env:PythonData] *",
   "language": "python",
   "name": "conda-env-PythonData-py"
  },
  "language_info": {
   "codemirror_mode": {
    "name": "ipython",
    "version": 3
   },
   "file_extension": ".py",
   "mimetype": "text/x-python",
   "name": "python",
   "nbconvert_exporter": "python",
   "pygments_lexer": "ipython3",
   "version": "3.8.5"
  }
 },
 "nbformat": 4,
 "nbformat_minor": 4
}
